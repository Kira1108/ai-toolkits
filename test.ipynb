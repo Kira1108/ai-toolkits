{
 "cells": [
  {
   "cell_type": "code",
   "execution_count": 6,
   "id": "61d3eb53",
   "metadata": {},
   "outputs": [],
   "source": [
    "from ai_toolkits.applications.roll_dice import create_agent\n",
    "import nest_asyncio\n",
    "nest_asyncio.apply()"
   ]
  },
  {
   "cell_type": "code",
   "execution_count": 7,
   "id": "ddeb0e73",
   "metadata": {},
   "outputs": [
    {
     "name": "stdout",
     "output_type": "stream",
     "text": [
      "Rolling the dice...\n"
     ]
    },
    {
     "data": {
      "text/plain": [
       "AgentRunResult(output='Sorry Anne, the die landed on 3. Better luck next time!')"
      ]
     },
     "execution_count": 7,
     "metadata": {},
     "output_type": "execute_result"
    }
   ],
   "source": [
    "agent = create_agent()\n",
    "\n",
    "agent.run_sync('My guess is 4', deps='Anne')"
   ]
  }
 ],
 "metadata": {
  "language_info": {
   "name": "python"
  }
 },
 "nbformat": 4,
 "nbformat_minor": 5
}
