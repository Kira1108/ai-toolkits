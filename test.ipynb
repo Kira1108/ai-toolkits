{
 "cells": [
  {
   "cell_type": "code",
   "execution_count": 25,
   "id": "61d3eb53",
   "metadata": {},
   "outputs": [
    {
     "name": "stdout",
     "output_type": "stream",
     "text": [
      "Rolling the dice...\n"
     ]
    },
    {
     "data": {
      "text/plain": [
       "AgentRunResult(output='Congratulations, Anne! You hit the number – you’re a winner! 🎉')"
      ]
     },
     "execution_count": 25,
     "metadata": {},
     "output_type": "execute_result"
    }
   ],
   "source": [
    "from ai_toolkits.applications.roll_dice import create_agent\n",
    "import nest_asyncio\n",
    "nest_asyncio.apply()\n",
    "\n",
    "agent = create_agent()\n",
    "\n",
    "agent.run_sync('My guess is 4', deps='Anne')"
   ]
  },
  {
   "cell_type": "code",
   "execution_count": 4,
   "id": "3ec29d7c",
   "metadata": {},
   "outputs": [],
   "source": [
    "from ai_toolkits.applications.whether_aware import run_whether_aware_agent"
   ]
  },
  {
   "cell_type": "code",
   "execution_count": 8,
   "id": "188a650f",
   "metadata": {},
   "outputs": [
    {
     "name": "stdout",
     "output_type": "stream",
     "text": [
      "😞 I'm doing well, thanks for asking! It’s a rainy day, so I'm staying warm and cozy inside. How about you?\n"
     ]
    }
   ],
   "source": [
    "await run_whether_aware_agent(\"hi there, how are you?\")"
   ]
  },
  {
   "cell_type": "code",
   "execution_count": 9,
   "id": "b17fd9e7",
   "metadata": {},
   "outputs": [
    {
     "name": "stdout",
     "output_type": "stream",
     "text": [
      "😞 9\n"
     ]
    }
   ],
   "source": [
    "await run_whether_aware_agent(\"what is 4 + 5\")"
   ]
  }
 ],
 "metadata": {
  "language_info": {
   "name": "python"
  }
 },
 "nbformat": 4,
 "nbformat_minor": 5
}
