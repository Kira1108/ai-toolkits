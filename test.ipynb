{
 "cells": [
  {
   "cell_type": "code",
   "execution_count": 1,
   "id": "a921d79f",
   "metadata": {},
   "outputs": [],
   "source": [
    "from ai_toolkits.audio.transcribe import real_time_transcribe   \n",
    "import asyncio\n",
    "import nest_asyncio\n",
    "nest_asyncio.apply()    "
   ]
  },
  {
   "cell_type": "code",
   "execution_count": null,
   "id": "633deb41",
   "metadata": {},
   "outputs": [
    {
     "ename": "NameError",
     "evalue": "name 'workflow' is not defined",
     "output_type": "error",
     "traceback": [
      "\u001b[0;31m---------------------------------------------------------------------------\u001b[0m",
      "\u001b[0;31mNameError\u001b[0m                                 Traceback (most recent call last)",
      "Cell \u001b[0;32mIn[2], line 1\u001b[0m\n\u001b[0;32m----> 1\u001b[0m asyncio\u001b[38;5;241m.\u001b[39mrun(\u001b[43mworkflow\u001b[49m())\n",
      "\u001b[0;31mNameError\u001b[0m: name 'workflow' is not defined"
     ]
    }
   ],
   "source": [
    "asyncio.run(real_time_transcribe())"
   ]
  },
  {
   "cell_type": "code",
   "execution_count": null,
   "id": "4559163c",
   "metadata": {},
   "outputs": [],
   "source": []
  }
 ],
 "metadata": {
  "kernelspec": {
   "display_name": "base",
   "language": "python",
   "name": "python3"
  },
  "language_info": {
   "codemirror_mode": {
    "name": "ipython",
    "version": 3
   },
   "file_extension": ".py",
   "mimetype": "text/x-python",
   "name": "python",
   "nbconvert_exporter": "python",
   "pygments_lexer": "ipython3",
   "version": "3.12.2"
  }
 },
 "nbformat": 4,
 "nbformat_minor": 5
}
