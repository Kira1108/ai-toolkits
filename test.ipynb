{
 "cells": [
  {
   "cell_type": "code",
   "execution_count": 25,
   "id": "61d3eb53",
   "metadata": {},
   "outputs": [
    {
     "name": "stdout",
     "output_type": "stream",
     "text": [
      "Rolling the dice...\n"
     ]
    },
    {
     "data": {
      "text/plain": [
       "AgentRunResult(output='Congratulations, Anne! You hit the number – you’re a winner! 🎉')"
      ]
     },
     "execution_count": 25,
     "metadata": {},
     "output_type": "execute_result"
    }
   ],
   "source": [
    "from ai_toolkits.applications.roll_dice import create_agent\n",
    "import nest_asyncio\n",
    "nest_asyncio.apply()\n",
    "\n",
    "agent = create_agent()\n",
    "\n",
    "agent.run_sync('My guess is 4', deps='Anne')"
   ]
  },
  {
   "cell_type": "code",
   "execution_count": 4,
   "id": "3ec29d7c",
   "metadata": {},
   "outputs": [],
   "source": [
    "from ai_toolkits.applications.whether_aware import run_whether_aware_agent"
   ]
  },
  {
   "cell_type": "code",
   "execution_count": 8,
   "id": "188a650f",
   "metadata": {},
   "outputs": [
    {
     "name": "stdout",
     "output_type": "stream",
     "text": [
      "😞 I'm doing well, thanks for asking! It’s a rainy day, so I'm staying warm and cozy inside. How about you?\n"
     ]
    }
   ],
   "source": [
    "await run_whether_aware_agent(\"hi there, how are you?\")"
   ]
  },
  {
   "cell_type": "code",
   "execution_count": 9,
   "id": "b17fd9e7",
   "metadata": {},
   "outputs": [
    {
     "name": "stdout",
     "output_type": "stream",
     "text": [
      "😞 9\n"
     ]
    }
   ],
   "source": [
    "await run_whether_aware_agent(\"what is 4 + 5\")"
   ]
  },
  {
   "cell_type": "code",
   "execution_count": 1,
   "id": "b8e29029",
   "metadata": {},
   "outputs": [],
   "source": [
    "from ai_toolkits.applications.joke import run_joke_generation\n",
    "import nest_asyncio\n",
    "nest_asyncio.apply()"
   ]
  },
  {
   "cell_type": "code",
   "execution_count": 3,
   "id": "406d5a0e",
   "metadata": {},
   "outputs": [],
   "source": [
    "agent_result = run_joke_generation()"
   ]
  },
  {
   "cell_type": "code",
   "execution_count": 11,
   "id": "3ab49cc3",
   "metadata": {},
   "outputs": [
    {
     "data": {
      "text/plain": [
       "AgentRunResult(output='为什么电脑不怕吃辣？因为它已经习惯“超时”了！')"
      ]
     },
     "execution_count": 11,
     "metadata": {},
     "output_type": "execute_result"
    }
   ],
   "source": [
    "agent_result"
   ]
  },
  {
   "cell_type": "code",
   "execution_count": 1,
   "id": "8879e779",
   "metadata": {},
   "outputs": [],
   "source": [
    "from ai_toolkits.applications.call_me_please import create_call_agent\n",
    "\n",
    "import nest_asyncio\n",
    "nest_asyncio.apply()\n",
    "\n",
    "agent = create_call_agent()"
   ]
  },
  {
   "cell_type": "code",
   "execution_count": 2,
   "id": "d2323054",
   "metadata": {},
   "outputs": [
    {
     "data": {
      "text/plain": [
       "AgentRunResult(output='您好！我是招商银行的客服代表，很高兴为您服务。有什么我可以帮您的吗？')"
      ]
     },
     "execution_count": 2,
     "metadata": {},
     "output_type": "execute_result"
    }
   ],
   "source": [
    "agent.run_sync('你叫什么名字')"
   ]
  },
  {
   "cell_type": "code",
   "execution_count": 3,
   "id": "59e874e1",
   "metadata": {},
   "outputs": [
    {
     "data": {
      "text/plain": [
       "AgentRunResult(output='招商银行为您提供多元化的金融服务，主要涵盖以下业务领域：\\n\\n| 业务类别 | 主要金融产品与服务 |\\n|----------|-------------------|\\n| **个人银行业务** | - 个人存款（活期、定期、通知存款）<br>- 个人贷款（住房按揭、汽车贷款、消费贷款）<br>- 信用卡（办理、积分、分期）<br>- 个人理财（定投、基金、保险）<br>- 个人电子银行（网银、手机银行、ATM/POS） |\\n| **企业银行业务** | - 个人及企业存款（活期、定期、通知）<br>- 贷款与融资（中小企业贷款、项目贷款、贸易融资）<br>- 应收账款/预收账款融资<br>- 企业理财及基金投顾<br>- 公司信用卡、商业卡<br>- 结算与支付服务（国内结算、跨境付款、SWIFT） |\\n| **投资与财富管理** | - 共同基金、债券、股票基金（公募、私募）<br>- 电子交易平台（股票、基金、债券）<br>- 保险投顾与财产保险（人寿、财产）<br>- 资产配置与财富规划服务 |\\n| **私人银行** | - 高净值客户定制理财方案<br>- 海外投资、外汇、黄金、贵金属<br>- 资产管理、家族办公室<br>- 国际结算与跨境金融服务 |\\n| **其他特色服务** | - **小微企业金融**：创新融资、供应链金融<br>- **绿色金融**：绿色债券、可持续发展项目融资<br>- **数字金融**：区块链支付、云金融、AI金融咨询<br>- **保险服务**：车险、人寿保险、财产保险<br>- **理财教育与金融知识普及** |\\n\\n如果您对某个具体服务特别感兴趣，或需要咨询开户流程、费率、贷款条件等信息，欢迎告诉我，我会为您提供更详细的解答。')"
      ]
     },
     "execution_count": 3,
     "metadata": {},
     "output_type": "execute_result"
    }
   ],
   "source": [
    "agent.run_sync(\"你们有什么业务\")"
   ]
  },
  {
   "cell_type": "code",
   "execution_count": 4,
   "id": "896a93c5",
   "metadata": {},
   "outputs": [
    {
     "data": {
      "text/plain": [
       "AgentRunResult(output=MailBoxMessage(message='您好，您拨打招商银行客户服务热线。我们目前无法接通，请留下您的姓名、联系电话以及要咨询的问题，留言后我们将尽快与您取得联系。'))"
      ]
     },
     "execution_count": 4,
     "metadata": {},
     "output_type": "execute_result"
    }
   ],
   "source": [
    "agent.run_sync(\"主人未接听，请留言\")"
   ]
  },
  {
   "cell_type": "code",
   "execution_count": 5,
   "id": "0bc9470d",
   "metadata": {},
   "outputs": [
    {
     "data": {
      "text/plain": [
       "AgentRunResult(output=HangupPhoneCall())"
      ]
     },
     "execution_count": 5,
     "metadata": {},
     "output_type": "execute_result"
    }
   ],
   "source": [
    "agent.run_sync(\"有点儿忙，稍后再聊，拜拜\")"
   ]
  },
  {
   "cell_type": "code",
   "execution_count": 6,
   "id": "684ce435",
   "metadata": {},
   "outputs": [
    {
     "data": {
      "text/plain": [
       "AgentRunResult(output=TransferToHumanCustomerService())"
      ]
     },
     "execution_count": 6,
     "metadata": {},
     "output_type": "execute_result"
    }
   ],
   "source": [
    "agent.run_sync(\"要不你还是给我转人工吧\")"
   ]
  }
 ],
 "metadata": {
  "language_info": {
   "name": "python"
  }
 },
 "nbformat": 4,
 "nbformat_minor": 5
}
