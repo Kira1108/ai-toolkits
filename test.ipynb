{
 "cells": [
  {
   "cell_type": "code",
   "execution_count": 11,
   "id": "407a0fcf",
   "metadata": {},
   "outputs": [
    {
     "name": "stdout",
     "output_type": "stream",
     "text": [
      "Rolling the dice...\n",
      "Sorry, Anne, but you didn't win this time. I rolled a **3** while you guessed **4**. Better luck next round!\n"
     ]
    }
   ],
   "source": [
    "import random\n",
    "from ai_toolkits.llms.pydantic_provider.models import create_ollama_model\n",
    "from pydantic_ai import Agent, RunContext\n",
    "import nest_asyncio\n",
    "nest_asyncio.apply()\n",
    "\n",
    "agent = Agent(\n",
    "    create_ollama_model() ,\n",
    "    deps_type=str,  \n",
    "    system_prompt=(\n",
    "        \"You're a dice game, you should roll the die and see if the number \"\n",
    "        \"you get back matches the user's guess. If so, tell them they're a winner. \"\n",
    "        \"Use the player's name in the response.\"\n",
    "    ),\n",
    ")\n",
    "\n",
    "@agent.tool_plain  \n",
    "def roll_dice() -> str:\n",
    "    \"\"\"Roll a six-sided die and return the result.\"\"\"\n",
    "    print(\"Rolling the dice...\")\n",
    "    return str(random.randint(1, 6))\n",
    "\n",
    "\n",
    "@agent.tool  \n",
    "def get_player_name(ctx: RunContext[str]) -> str:\n",
    "    \"\"\"Get the player's name.\"\"\"\n",
    "    return ctx.deps\n",
    "\n",
    "\n",
    "dice_result = agent.run_sync('My guess is 4', deps='Anne')  \n",
    "print(dice_result.output)"
   ]
  },
  {
   "cell_type": "code",
   "execution_count": null,
   "id": "01dae9b1",
   "metadata": {},
   "outputs": [],
   "source": []
  }
 ],
 "metadata": {
  "language_info": {
   "name": "python"
  }
 },
 "nbformat": 4,
 "nbformat_minor": 5
}
