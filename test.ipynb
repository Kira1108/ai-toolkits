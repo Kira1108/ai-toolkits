{
 "cells": [
  {
   "cell_type": "code",
   "execution_count": 25,
   "id": "61d3eb53",
   "metadata": {},
   "outputs": [
    {
     "name": "stdout",
     "output_type": "stream",
     "text": [
      "Rolling the dice...\n"
     ]
    },
    {
     "data": {
      "text/plain": [
       "AgentRunResult(output='Congratulations, Anne! You hit the number – you’re a winner! 🎉')"
      ]
     },
     "execution_count": 25,
     "metadata": {},
     "output_type": "execute_result"
    }
   ],
   "source": [
    "from ai_toolkits.applications.roll_dice import create_agent\n",
    "import nest_asyncio\n",
    "nest_asyncio.apply()\n",
    "\n",
    "agent = create_agent()\n",
    "\n",
    "agent.run_sync('My guess is 4', deps='Anne')"
   ]
  },
  {
   "cell_type": "code",
   "execution_count": 4,
   "id": "3ec29d7c",
   "metadata": {},
   "outputs": [],
   "source": [
    "from ai_toolkits.applications.whether_aware import run_whether_aware_agent"
   ]
  },
  {
   "cell_type": "code",
   "execution_count": 8,
   "id": "188a650f",
   "metadata": {},
   "outputs": [
    {
     "name": "stdout",
     "output_type": "stream",
     "text": [
      "😞 I'm doing well, thanks for asking! It’s a rainy day, so I'm staying warm and cozy inside. How about you?\n"
     ]
    }
   ],
   "source": [
    "await run_whether_aware_agent(\"hi there, how are you?\")"
   ]
  },
  {
   "cell_type": "code",
   "execution_count": 9,
   "id": "b17fd9e7",
   "metadata": {},
   "outputs": [
    {
     "name": "stdout",
     "output_type": "stream",
     "text": [
      "😞 9\n"
     ]
    }
   ],
   "source": [
    "await run_whether_aware_agent(\"what is 4 + 5\")"
   ]
  },
  {
   "cell_type": "code",
   "execution_count": 1,
   "id": "b8e29029",
   "metadata": {},
   "outputs": [],
   "source": [
    "from ai_toolkits.applications.joke import run_joke_generation\n",
    "import nest_asyncio\n",
    "nest_asyncio.apply()"
   ]
  },
  {
   "cell_type": "code",
   "execution_count": 3,
   "id": "406d5a0e",
   "metadata": {},
   "outputs": [],
   "source": [
    "agent_result = run_joke_generation()"
   ]
  },
  {
   "cell_type": "code",
   "execution_count": 11,
   "id": "3ab49cc3",
   "metadata": {},
   "outputs": [
    {
     "data": {
      "text/plain": [
       "AgentRunResult(output='为什么电脑不怕吃辣？因为它已经习惯“超时”了！')"
      ]
     },
     "execution_count": 11,
     "metadata": {},
     "output_type": "execute_result"
    }
   ],
   "source": [
    "agent_result"
   ]
  },
  {
   "cell_type": "code",
   "execution_count": 2,
   "id": "8879e779",
   "metadata": {},
   "outputs": [],
   "source": [
    "from ai_toolkits.applications.call_me_please import create_call_agent\n",
    "\n",
    "import nest_asyncio\n",
    "nest_asyncio.apply()\n",
    "\n",
    "agent = create_call_agent()"
   ]
  },
  {
   "cell_type": "code",
   "execution_count": 3,
   "id": "d2323054",
   "metadata": {},
   "outputs": [
    {
     "data": {
      "text/plain": [
       "AgentRunResult(output='我是北京银行的客户服务代表，很高兴为您服务。请问有什么我可以帮助您的吗？')"
      ]
     },
     "execution_count": 3,
     "metadata": {},
     "output_type": "execute_result"
    }
   ],
   "source": [
    "agent.run_sync('你叫什么名字')"
   ]
  },
  {
   "cell_type": "code",
   "execution_count": 4,
   "id": "59e874e1",
   "metadata": {},
   "outputs": [
    {
     "data": {
      "text/plain": [
       "AgentRunResult(output='您好，欢迎致电北京银行。我们拥有多种金融服务，涵盖个人和企业两大领域，主要包括：\\n\\n1. **个人银行业务**  \\n   - **储蓄存款 & 定期存款**：多档利息方案，灵活存取。  \\n   - **信用卡**：多样化卡产品，积分返现、分期支付、境外消费额度。  \\n   - **贷款服务**：个人住房贷款、车辆贷款、消费信贷、信用贷款。  \\n   - **支付与理财**：移动支付、网上银行、财富管理、基金、国债、黄金等投资产品。  \\n   - **保险**：财产保险、人寿保险等基础保险产品。  \\n\\n2. **企业银行业务**  \\n   - **公司账户**：基本结算、快速转账、跨行支付。  \\n   - **融资与信贷**：企业贷款、信用额度、保理融资、项目融资。  \\n   - **外汇与跨境金融**：外币账户、跨境结算、保函、信用证。  \\n   - **支付与结算解决方案**：POS机、银联支付、电子钱包、供应链金融。  \\n\\n3. **特色业务**  \\n   - **数字化银行**：全渠道服务（手机银行、网上银行、微信银行等）。  \\n   - **社区金融服务**：普惠金融、农村金融支持等。  \\n   - **绿色金融与可持续项目**：绿色债券、绿色贷款等。  \\n\\n如果您想了解具体产品细节或对某项业务感兴趣，随时告诉我，我可以为您详细解答或为您安排专属客服进一步沟通。')"
      ]
     },
     "execution_count": 4,
     "metadata": {},
     "output_type": "execute_result"
    }
   ],
   "source": [
    "agent.run_sync(\"你们有什么业务\")"
   ]
  },
  {
   "cell_type": "code",
   "execution_count": 5,
   "id": "896a93c5",
   "metadata": {},
   "outputs": [
    {
     "data": {
      "text/plain": [
       "AgentRunResult(output=MailBoxMessage(message='您好，您来电已转至北京银行客服。请留意我们将通过语音通知您进一步的服务信息。如需即时帮助，请拨打我们的客户服务热线 12345。感谢您的来电，祝您生活愉快！'))"
      ]
     },
     "execution_count": 5,
     "metadata": {},
     "output_type": "execute_result"
    }
   ],
   "source": [
    "agent.run_sync(\"主人未接听，请留言\")"
   ]
  },
  {
   "cell_type": "code",
   "execution_count": 6,
   "id": "0bc9470d",
   "metadata": {},
   "outputs": [
    {
     "data": {
      "text/plain": [
       "AgentRunResult(output=HangupPhoneCall())"
      ]
     },
     "execution_count": 6,
     "metadata": {},
     "output_type": "execute_result"
    }
   ],
   "source": [
    "agent.run_sync(\"有点儿忙，稍后再聊，拜拜\")"
   ]
  },
  {
   "cell_type": "code",
   "execution_count": 7,
   "id": "684ce435",
   "metadata": {},
   "outputs": [
    {
     "data": {
      "text/plain": [
       "AgentRunResult(output=TransferToHumanCustomerService())"
      ]
     },
     "execution_count": 7,
     "metadata": {},
     "output_type": "execute_result"
    }
   ],
   "source": [
    "agent.run_sync(\"要不你还是给我转人工吧\")"
   ]
  }
 ],
 "metadata": {
  "language_info": {
   "name": "python"
  }
 },
 "nbformat": 4,
 "nbformat_minor": 5
}
