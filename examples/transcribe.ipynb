{
 "cells": [
  {
   "cell_type": "code",
   "execution_count": null,
   "id": "a921d79f",
   "metadata": {},
   "outputs": [],
   "source": [
    "from ai_toolkits.audio.transcribe import real_time_transcribe   \n",
    "import asyncio\n",
    "import nest_asyncio\n",
    "nest_asyncio.apply()    \n",
    "asyncio.run(real_time_transcribe())"
   ]
  }
 ],
 "metadata": {
  "kernelspec": {
   "display_name": "base",
   "language": "python",
   "name": "python3"
  },
  "language_info": {
   "codemirror_mode": {
    "name": "ipython",
    "version": 3
   },
   "file_extension": ".py",
   "mimetype": "text/x-python",
   "name": "python",
   "nbconvert_exporter": "python",
   "pygments_lexer": "ipython3",
   "version": "3.12.2"
  }
 },
 "nbformat": 4,
 "nbformat_minor": 5
}
