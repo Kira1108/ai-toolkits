{
 "cells": [
  {
   "cell_type": "code",
   "execution_count": 1,
   "id": "f28f477d",
   "metadata": {},
   "outputs": [],
   "source": [
    "from ai_toolkits.llms.pydantic_provider.models import create_openai_like"
   ]
  },
  {
   "cell_type": "code",
   "execution_count": null,
   "id": "63ec90af",
   "metadata": {},
   "outputs": [],
   "source": [
    "from ai_toolkits.llms.pydantic_provider.models import create_openai_like\n",
    "\n",
    "from openai import AsyncClient\n",
    "from pydantic_ai import Agent\n",
    "from pydantic_ai.models.openai import OpenAIChatModel\n",
    "from pydantic_ai.providers.openai import OpenAIProvider\n",
    "from pydantic_ai.models.openai import ModelSettings\n",
    "import nest_asyncio\n",
    "nest_asyncio.apply()\n",
    "\n",
    "\n",
    "model = create_openai_like(\n",
    "    model_name = \"Qwen3-32B-AWQ\",\n",
    "    api_key=\"2e7a7e90-0dd1-4cad-ac43-9a6ee86cebdc\",\n",
    "    base_url=\"https://vesta.yxqiche.com/vesta_test/v2/engine_online/flow_schedule/schedule_run_openai/v1\",\n",
    "    default_headers={\n",
    "        \"AccountId\": \"Algorithm\",\n",
    "        \"AccountToken\": \"3fc524bd5e1a6f7fe8c9480b74cc2bc3\",\n",
    "        \"AppId\": \"1964929122673102848\",\n",
    "        \"TenantId\": \"YIXIN\",\n",
    "        \"TokenKey\": \"v8znd4bj64awm90pk410l679ya5rj8ev\",\n",
    "        \"RequestId\": \"UAT_0987654\"\n",
    "    },\n",
    "    extra_body={\n",
    "        \"chat_template_kwargs\": {\n",
    "            \"enable_thinking\": True,\n",
    "            \"separate_reasoning\": False\n",
    "        }\n",
    "    }\n",
    ")\n",
    "\n",
    "\n",
    "agent = Agent(model)\n",
    "\n",
    "res = agent.run_sync(\"写一个python函数，计算两个数的和\")"
   ]
  }
 ],
 "metadata": {
  "kernelspec": {
   "display_name": "base",
   "language": "python",
   "name": "python3"
  },
  "language_info": {
   "codemirror_mode": {
    "name": "ipython",
    "version": 3
   },
   "file_extension": ".py",
   "mimetype": "text/x-python",
   "name": "python",
   "nbconvert_exporter": "python",
   "pygments_lexer": "ipython3",
   "version": "3.12.2"
  }
 },
 "nbformat": 4,
 "nbformat_minor": 5
}
