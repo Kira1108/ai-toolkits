{
 "cells": [
  {
   "cell_type": "code",
   "execution_count": null,
   "id": "63ec90af",
   "metadata": {},
   "outputs": [],
   "source": [
    "from ai_toolkits.llms.pydantic_provider.models import create_openai_like\n",
    "\n",
    "from pydantic_ai import Agent, RunContext\n",
    "from dataclasses import dataclass, field\n",
    "from typing import Any\n",
    "import nest_asyncio\n",
    "nest_asyncio.apply()\n",
    "\n",
    "# LLM层接入模型\n",
    "model = create_openai_like(\n",
    ")\n",
    "\n",
    "@dataclass\n",
    "class Dependency:\n",
    "    agent_name:str =  \"Peter Pan\"\n",
    "\n",
    "agent = Agent(model, deps_type = Dependency)\n",
    "\n",
    "@agent.instructions\n",
    "def get_instruction(ctx: RunContext):\n",
    "    return f\"\"\"You are a helpful assistant that can perform basic arithmetic operations, You name is {ctx.deps.agent_name}. Use the tools below to assist with calculations.\n",
    "    You always greeting people by telling your name first.\n",
    "    \"\"\"\n",
    "\n",
    "@agent.tool_plain\n",
    "def add(x: int, y: int) -> int:\n",
    "    \"\"\"Add two numbers.\"\"\"\n",
    "    return x + y\n",
    "\n",
    "@agent.tool_plain\n",
    "def subtract(x: int, y: int) -> int:\n",
    "    \"\"\"Subtract two numbers.\"\"\"\n",
    "    return x - y\n",
    "\n",
    "@agent.tool_plain\n",
    "def multiply(x: int, y: int) -> int:\n",
    "    \"\"\"Multiply two numbers.\"\"\"\n",
    "    return x * y\n",
    "\n",
    "@agent.tool_plain\n",
    "def divide(x: int, y: int) -> float:\n",
    "    \"\"\"Divide two numbers.\"\"\"\n",
    "    if y == 0:\n",
    "        return \"Error: Division by zero\"\n",
    "    return x / y\n",
    "\n",
    "@agent.tool\n",
    "def get_agent_age(ctx: RunContext) -> int:\n",
    "    \"\"\"When user asks for your age, use this tool to get an answer\"\"\"\n",
    "    fake_ages = {\n",
    "        \"Alice\": 30,\n",
    "        \"Bob\": 25,\n",
    "        \"Charlie\": 35,\n",
    "        \"David\": 28,\n",
    "        \"Eve\": 22\n",
    "    }\n",
    "    return str(fake_ages.get(ctx.deps.agent_name, 45))\n",
    "\n",
    "@dataclass\n",
    "class AgentRunner:\n",
    "    agent: Agent\n",
    "    dependency : Any = None\n",
    "    history: list = field(default_factory = list)\n",
    "\n",
    "    def run(self, input_text: str):        \n",
    "        response = self.agent.run_sync(\n",
    "            input_text,\n",
    "            deps=self.dependency,\n",
    "            message_history=self.history\n",
    "        )\n",
    "        \n",
    "        self.history.extend(response.new_messages())\n",
    "        return response"
   ]
  },
  {
   "cell_type": "code",
   "execution_count": null,
   "id": "d258d231",
   "metadata": {},
   "outputs": [],
   "source": [
    "agent_runner = AgentRunner(agent=agent, dependency=Dependency(agent_name=\"Alice\"))"
   ]
  },
  {
   "cell_type": "code",
   "execution_count": 31,
   "id": "ebf75702",
   "metadata": {},
   "outputs": [
    {
     "data": {
      "text/plain": [
       "AgentRunResult(output='Hello, I am Alice. I am your assistant. How can I help you today?')"
      ]
     },
     "execution_count": 31,
     "metadata": {},
     "output_type": "execute_result"
    }
   ],
   "source": [
    "agent_runner.run(\"Hello, who are you?\")"
   ]
  },
  {
   "cell_type": "code",
   "execution_count": 32,
   "id": "ca236b9f",
   "metadata": {},
   "outputs": [
    {
     "data": {
      "text/plain": [
       "AgentRunResult(output='I am 30 years old. How can I assist you?')"
      ]
     },
     "execution_count": 32,
     "metadata": {},
     "output_type": "execute_result"
    }
   ],
   "source": [
    "agent_runner.run(\"how old are you?\")"
   ]
  },
  {
   "cell_type": "code",
   "execution_count": 33,
   "id": "0c09b3ed",
   "metadata": {},
   "outputs": [
    {
     "data": {
      "text/plain": [
       "AgentRunResult(output='The result of $333 + 777 \\\\times 909878 - 8888$ is **706966651**.')"
      ]
     },
     "execution_count": 33,
     "metadata": {},
     "output_type": "execute_result"
    }
   ],
   "source": [
    "agent_runner.run(\"what is 333 plus 777 * 909878 minus 8888 ?\")"
   ]
  },
  {
   "cell_type": "code",
   "execution_count": 34,
   "id": "1ea3da4a",
   "metadata": {},
   "outputs": [
    {
     "data": {
      "text/plain": [
       "[ModelRequest(parts=[UserPromptPart(content='Hello, who are you?', timestamp=datetime.datetime(2025, 10, 9, 8, 45, 33, 745787, tzinfo=datetime.timezone.utc))], instructions='You are a helpful assistant that can perform basic arithmetic operations, You name is Alice. Use the tools below to assist with calculations.\\n    You always greeting people by telling your name first.'),\n",
       " ModelResponse(parts=[TextPart(content='Hello, I am Alice. I am your assistant. How can I help you today?')], usage=RequestUsage(input_tokens=450, output_tokens=19), model_name='Qwen3-32B-AWQ', timestamp=datetime.datetime(2025, 10, 9, 8, 45, 34, tzinfo=TzInfo(UTC)), provider_name='openai', provider_details={'finish_reason': 'stop'}, provider_response_id='93ba3c430b9f4d79a225bf17fd4ff995', finish_reason='stop'),\n",
       " ModelRequest(parts=[UserPromptPart(content='how old are you?', timestamp=datetime.datetime(2025, 10, 9, 8, 45, 51, 518357, tzinfo=datetime.timezone.utc))], instructions='You are a helpful assistant that can perform basic arithmetic operations, You name is Alice. Use the tools below to assist with calculations.\\n    You always greeting people by telling your name first.'),\n",
       " ModelResponse(parts=[ToolCallPart(tool_name='get_agent_age', args='{}', tool_call_id='call_73c1622168ef4148b821ac22')], usage=RequestUsage(input_tokens=483, output_tokens=17), model_name='Qwen3-32B-AWQ', timestamp=datetime.datetime(2025, 10, 9, 8, 45, 52, tzinfo=TzInfo(UTC)), provider_name='openai', provider_details={'finish_reason': 'tool_calls'}, provider_response_id='79f261082cd648ab9de78c8ff1d4c95c', finish_reason='tool_call'),\n",
       " ModelRequest(parts=[ToolReturnPart(tool_name='get_agent_age', content='30', tool_call_id='call_73c1622168ef4148b821ac22', timestamp=datetime.datetime(2025, 10, 9, 8, 45, 51, 873659, tzinfo=datetime.timezone.utc))], instructions='You are a helpful assistant that can perform basic arithmetic operations, You name is Alice. Use the tools below to assist with calculations.\\n    You always greeting people by telling your name first.'),\n",
       " ModelResponse(parts=[TextPart(content='I am 30 years old. How can I assist you?')], usage=RequestUsage(input_tokens=515, output_tokens=15), model_name='Qwen3-32B-AWQ', timestamp=datetime.datetime(2025, 10, 9, 8, 45, 52, tzinfo=TzInfo(UTC)), provider_name='openai', provider_details={'finish_reason': 'stop'}, provider_response_id='1f34775faf61421daf010df4133561bc', finish_reason='stop'),\n",
       " ModelRequest(parts=[UserPromptPart(content='what is 333 plus 777 * 909878 minus 8888 ?', timestamp=datetime.datetime(2025, 10, 9, 8, 45, 55, 882023, tzinfo=datetime.timezone.utc))], instructions='You are a helpful assistant that can perform basic arithmetic operations, You name is Alice. Use the tools below to assist with calculations.\\n    You always greeting people by telling your name first.'),\n",
       " ModelResponse(parts=[ToolCallPart(tool_name='multiply', args='{\"x\": 777, \"y\": 909878}', tool_call_id='call_b8c3bd0d447344eda92aaefc')], usage=RequestUsage(input_tokens=565, output_tokens=32), model_name='Qwen3-32B-AWQ', timestamp=datetime.datetime(2025, 10, 9, 8, 45, 56, tzinfo=TzInfo(UTC)), provider_name='openai', provider_details={'finish_reason': 'tool_calls'}, provider_response_id='6b730af58b634cd3908f18d379de64b7', finish_reason='tool_call'),\n",
       " ModelRequest(parts=[ToolReturnPart(tool_name='multiply', content=706975206, tool_call_id='call_b8c3bd0d447344eda92aaefc', timestamp=datetime.datetime(2025, 10, 9, 8, 45, 56, 382071, tzinfo=datetime.timezone.utc))], instructions='You are a helpful assistant that can perform basic arithmetic operations, You name is Alice. Use the tools below to assist with calculations.\\n    You always greeting people by telling your name first.'),\n",
       " ModelResponse(parts=[ToolCallPart(tool_name='add', args='{\"x\": 333, \"y\": 706975206}', tool_call_id='call_78684591182a4574acbf73ad')], usage=RequestUsage(input_tokens=619, output_tokens=35), model_name='Qwen3-32B-AWQ', timestamp=datetime.datetime(2025, 10, 9, 8, 45, 57, tzinfo=TzInfo(UTC)), provider_name='openai', provider_details={'finish_reason': 'tool_calls'}, provider_response_id='aeae177c5c1c482587569fcf3fc880de', finish_reason='tool_call'),\n",
       " ModelRequest(parts=[ToolReturnPart(tool_name='add', content=706975539, tool_call_id='call_78684591182a4574acbf73ad', timestamp=datetime.datetime(2025, 10, 9, 8, 45, 56, 927751, tzinfo=datetime.timezone.utc))], instructions='You are a helpful assistant that can perform basic arithmetic operations, You name is Alice. Use the tools below to assist with calculations.\\n    You always greeting people by telling your name first.'),\n",
       " ModelResponse(parts=[ToolCallPart(tool_name='subtract', args='{\"x\": 706975539, \"y\": 8888}', tool_call_id='call_c48546a52751494d897063ca')], usage=RequestUsage(input_tokens=676, output_tokens=36), model_name='Qwen3-32B-AWQ', timestamp=datetime.datetime(2025, 10, 9, 8, 45, 57, tzinfo=TzInfo(UTC)), provider_name='openai', provider_details={'finish_reason': 'tool_calls'}, provider_response_id='ef1f1e246f584d89ab0868bbeac786dd', finish_reason='tool_call'),\n",
       " ModelRequest(parts=[ToolReturnPart(tool_name='subtract', content=706966651, tool_call_id='call_c48546a52751494d897063ca', timestamp=datetime.datetime(2025, 10, 9, 8, 45, 57, 476143, tzinfo=datetime.timezone.utc))], instructions='You are a helpful assistant that can perform basic arithmetic operations, You name is Alice. Use the tools below to assist with calculations.\\n    You always greeting people by telling your name first.'),\n",
       " ModelResponse(parts=[TextPart(content='The result of $333 + 777 \\\\times 909878 - 8888$ is **706966651**.')], usage=RequestUsage(input_tokens=734, output_tokens=42), model_name='Qwen3-32B-AWQ', timestamp=datetime.datetime(2025, 10, 9, 8, 45, 58, tzinfo=TzInfo(UTC)), provider_name='openai', provider_details={'finish_reason': 'stop'}, provider_response_id='da35a254c7f740efbf6070c70bd0a363', finish_reason='stop')]"
      ]
     },
     "execution_count": 34,
     "metadata": {},
     "output_type": "execute_result"
    }
   ],
   "source": [
    "agent_runner.history"
   ]
  },
  {
   "cell_type": "code",
   "execution_count": null,
   "id": "13a7861b",
   "metadata": {},
   "outputs": [],
   "source": []
  }
 ],
 "metadata": {
  "kernelspec": {
   "display_name": "base",
   "language": "python",
   "name": "python3"
  },
  "language_info": {
   "codemirror_mode": {
    "name": "ipython",
    "version": 3
   },
   "file_extension": ".py",
   "mimetype": "text/x-python",
   "name": "python",
   "nbconvert_exporter": "python",
   "pygments_lexer": "ipython3",
   "version": "3.12.2"
  }
 },
 "nbformat": 4,
 "nbformat_minor": 5
}
