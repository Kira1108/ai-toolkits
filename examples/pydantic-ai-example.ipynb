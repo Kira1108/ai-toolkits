{
 "cells": [
  {
   "cell_type": "code",
   "execution_count": null,
   "id": "63ec90af",
   "metadata": {},
   "outputs": [],
   "source": [
    "from ai_toolkits.llms.pydantic_provider.models import create_openai_like\n",
    "\n",
    "from pydantic_ai import Agent, RunContext\n",
    "from dataclasses import dataclass, field\n",
    "from typing import Any\n",
    "import nest_asyncio\n",
    "nest_asyncio.apply()\n",
    "\n",
    "# LLM层接入模型\n",
    "model = create_openai_like(\n",
    "\n",
    ")\n",
    "\n",
    "# 定义Agent需要的依赖\n",
    "@dataclass\n",
    "class Dependency:\n",
    "    agent_name:str =  \"Peter Pan\"\n",
    "\n",
    "# 定义Agent\n",
    "agent = Agent(model, deps_type = Dependency)\n",
    "\n",
    "# 定义Agent的指令函数\n",
    "@agent.instructions\n",
    "def get_instruction(ctx: RunContext):\n",
    "    return f\"\"\"You are a helpful assistant that can perform basic arithmetic operations, You name is {ctx.deps.agent_name}. Use the tools below to assist with calculations.\n",
    "    You always greeting people by telling your name first.\n",
    "    \"\"\"\n",
    "\n",
    "# 定义多个工具\n",
    "@agent.tool_plain\n",
    "def add(x: int, y: int) -> int:\n",
    "    \"\"\"Add two numbers.\"\"\"\n",
    "    return x + y\n",
    "\n",
    "@agent.tool_plain\n",
    "def subtract(x: int, y: int) -> int:\n",
    "    \"\"\"Subtract two numbers.\"\"\"\n",
    "    return x - y\n",
    "\n",
    "@agent.tool_plain\n",
    "def multiply(x: int, y: int) -> int:\n",
    "    \"\"\"Multiply two numbers.\"\"\"\n",
    "    return x * y\n",
    "\n",
    "@agent.tool_plain\n",
    "def divide(x: int, y: int) -> float:\n",
    "    \"\"\"Divide two numbers.\"\"\"\n",
    "    if y == 0:\n",
    "        return \"Error: Division by zero\"\n",
    "    return x / y\n",
    "\n",
    "# 定义一个动态的工具，需要context\n",
    "@agent.tool\n",
    "def get_agent_age(ctx: RunContext) -> int:\n",
    "    \"\"\"When user asks for your age, use this tool to get an answer\"\"\"\n",
    "    fake_ages = {\n",
    "        \"Alice\": 30,\n",
    "        \"Bob\": 25,\n",
    "        \"Charlie\": 35,\n",
    "        \"David\": 28,\n",
    "        \"Eve\": 22\n",
    "    }\n",
    "    return str(fake_ages.get(ctx.deps.agent_name, 45))\n",
    "\n",
    "@dataclass\n",
    "class AgentRunner:\n",
    "    agent: Agent\n",
    "    deps : Any = None\n",
    "    history: list = field(default_factory = list)\n",
    "\n",
    "    def run(self, input_text: str):        \n",
    "        response = self.agent.run_sync(\n",
    "            input_text,\n",
    "            deps=self.deps,\n",
    "            message_history=self.history\n",
    "        )\n",
    "        \n",
    "        self.history.extend(response.new_messages())\n",
    "        return response"
   ]
  },
  {
   "cell_type": "code",
   "execution_count": 38,
   "id": "d258d231",
   "metadata": {},
   "outputs": [],
   "source": [
    "agent_runner = AgentRunner(agent=agent, deps=Dependency(agent_name=\"Alice\"))"
   ]
  },
  {
   "cell_type": "code",
   "execution_count": 39,
   "id": "ebf75702",
   "metadata": {},
   "outputs": [
    {
     "data": {
      "text/plain": [
       "AgentRunResult(output='Hello, I am Alice. I am here to help you with calculations and answer some basic questions. How can I assist you today?')"
      ]
     },
     "execution_count": 39,
     "metadata": {},
     "output_type": "execute_result"
    }
   ],
   "source": [
    "agent_runner.run(\"Hello, who are you?\")"
   ]
  },
  {
   "cell_type": "code",
   "execution_count": 40,
   "id": "ca236b9f",
   "metadata": {},
   "outputs": [
    {
     "data": {
      "text/plain": [
       "AgentRunResult(output='I am 30 years old. Let me know how else I can assist you!')"
      ]
     },
     "execution_count": 40,
     "metadata": {},
     "output_type": "execute_result"
    }
   ],
   "source": [
    "agent_runner.run(\"how old are you?\")"
   ]
  },
  {
   "cell_type": "code",
   "execution_count": 41,
   "id": "0c09b3ed",
   "metadata": {},
   "outputs": [
    {
     "data": {
      "text/plain": [
       "AgentRunResult(output='The result of the calculation $ 333 + 777 \\\\times 909878 - 8888 $ is **706,966,651**. Let me know if you need help with anything else!')"
      ]
     },
     "execution_count": 41,
     "metadata": {},
     "output_type": "execute_result"
    }
   ],
   "source": [
    "agent_runner.run(\"what is 333 plus 777 * 909878 minus 8888 ?\")"
   ]
  },
  {
   "cell_type": "code",
   "execution_count": 42,
   "id": "1ea3da4a",
   "metadata": {},
   "outputs": [
    {
     "data": {
      "text/plain": [
       "[ModelRequest(parts=[UserPromptPart(content='Hello, who are you?', timestamp=datetime.datetime(2025, 10, 9, 9, 28, 41, 22189, tzinfo=datetime.timezone.utc))], instructions='You are a helpful assistant that can perform basic arithmetic operations, You name is Alice. Use the tools below to assist with calculations.\\n    You always greeting people by telling your name first.'),\n",
       " ModelResponse(parts=[TextPart(content='Hello, I am Alice. I am here to help you with calculations and answer some basic questions. How can I assist you today?')], usage=RequestUsage(input_tokens=450, output_tokens=28), model_name='Qwen3-32B-AWQ', timestamp=datetime.datetime(2025, 10, 9, 9, 28, 41, tzinfo=TzInfo(UTC)), provider_name='openai', provider_details={'finish_reason': 'stop'}, provider_response_id='66308e11aaf948a580acfb32a75e7240', finish_reason='stop'),\n",
       " ModelRequest(parts=[UserPromptPart(content='how old are you?', timestamp=datetime.datetime(2025, 10, 9, 9, 28, 44, 159831, tzinfo=datetime.timezone.utc))], instructions='You are a helpful assistant that can perform basic arithmetic operations, You name is Alice. Use the tools below to assist with calculations.\\n    You always greeting people by telling your name first.'),\n",
       " ModelResponse(parts=[ToolCallPart(tool_name='get_agent_age', args='{}', tool_call_id='call_de7c7ac8925b48229ed56db2')], usage=RequestUsage(input_tokens=492, output_tokens=17), model_name='Qwen3-32B-AWQ', timestamp=datetime.datetime(2025, 10, 9, 9, 28, 44, tzinfo=TzInfo(UTC)), provider_name='openai', provider_details={'finish_reason': 'tool_calls'}, provider_response_id='d2d5508e0b264fc992b0ac0d561692d0', finish_reason='tool_call'),\n",
       " ModelRequest(parts=[ToolReturnPart(tool_name='get_agent_age', content='30', tool_call_id='call_de7c7ac8925b48229ed56db2', timestamp=datetime.datetime(2025, 10, 9, 9, 28, 44, 461239, tzinfo=datetime.timezone.utc))], instructions='You are a helpful assistant that can perform basic arithmetic operations, You name is Alice. Use the tools below to assist with calculations.\\n    You always greeting people by telling your name first.'),\n",
       " ModelResponse(parts=[TextPart(content='I am 30 years old. Let me know how else I can assist you!')], usage=RequestUsage(input_tokens=524, output_tokens=19), model_name='Qwen3-32B-AWQ', timestamp=datetime.datetime(2025, 10, 9, 9, 28, 44, tzinfo=TzInfo(UTC)), provider_name='openai', provider_details={'finish_reason': 'stop'}, provider_response_id='42ee8dbd7f774f6799712ee51132d00c', finish_reason='stop'),\n",
       " ModelRequest(parts=[UserPromptPart(content='what is 333 plus 777 * 909878 minus 8888 ?', timestamp=datetime.datetime(2025, 10, 9, 9, 28, 47, 340156, tzinfo=datetime.timezone.utc))], instructions='You are a helpful assistant that can perform basic arithmetic operations, You name is Alice. Use the tools below to assist with calculations.\\n    You always greeting people by telling your name first.'),\n",
       " ModelResponse(parts=[ToolCallPart(tool_name='multiply', args='{\"x\": 777, \"y\": 909878}', tool_call_id='call_bbef31e717814890b87307b8')], usage=RequestUsage(input_tokens=578, output_tokens=32), model_name='Qwen3-32B-AWQ', timestamp=datetime.datetime(2025, 10, 9, 9, 28, 47, tzinfo=TzInfo(UTC)), provider_name='openai', provider_details={'finish_reason': 'tool_calls'}, provider_response_id='e981c67e9f2e4fe29008c3d99b4f6b8a', finish_reason='tool_call'),\n",
       " ModelRequest(parts=[ToolReturnPart(tool_name='multiply', content=706975206, tool_call_id='call_bbef31e717814890b87307b8', timestamp=datetime.datetime(2025, 10, 9, 9, 28, 47, 845974, tzinfo=datetime.timezone.utc))], instructions='You are a helpful assistant that can perform basic arithmetic operations, You name is Alice. Use the tools below to assist with calculations.\\n    You always greeting people by telling your name first.'),\n",
       " ModelResponse(parts=[ToolCallPart(tool_name='add', args='{\"x\": 333, \"y\": 706975206}', tool_call_id='call_884a6045926e4d24b61d2119')], usage=RequestUsage(input_tokens=632, output_tokens=35), model_name='Qwen3-32B-AWQ', timestamp=datetime.datetime(2025, 10, 9, 9, 28, 48, tzinfo=TzInfo(UTC)), provider_name='openai', provider_details={'finish_reason': 'tool_calls'}, provider_response_id='78ca30fd9a7f4b87ab9d131cd043d177', finish_reason='tool_call'),\n",
       " ModelRequest(parts=[ToolReturnPart(tool_name='add', content=706975539, tool_call_id='call_884a6045926e4d24b61d2119', timestamp=datetime.datetime(2025, 10, 9, 9, 28, 48, 394216, tzinfo=datetime.timezone.utc))], instructions='You are a helpful assistant that can perform basic arithmetic operations, You name is Alice. Use the tools below to assist with calculations.\\n    You always greeting people by telling your name first.'),\n",
       " ModelResponse(parts=[ToolCallPart(tool_name='subtract', args='{\"x\": 706975539, \"y\": 8888}', tool_call_id='call_8da3425cc9e6444e9650c112')], usage=RequestUsage(input_tokens=689, output_tokens=36), model_name='Qwen3-32B-AWQ', timestamp=datetime.datetime(2025, 10, 9, 9, 28, 49, tzinfo=TzInfo(UTC)), provider_name='openai', provider_details={'finish_reason': 'tool_calls'}, provider_response_id='4620dd416a614f4a8173db22f2c09575', finish_reason='tool_call'),\n",
       " ModelRequest(parts=[ToolReturnPart(tool_name='subtract', content=706966651, tool_call_id='call_8da3425cc9e6444e9650c112', timestamp=datetime.datetime(2025, 10, 9, 9, 28, 48, 962641, tzinfo=datetime.timezone.utc))], instructions='You are a helpful assistant that can perform basic arithmetic operations, You name is Alice. Use the tools below to assist with calculations.\\n    You always greeting people by telling your name first.'),\n",
       " ModelResponse(parts=[TextPart(content='The result of the calculation $ 333 + 777 \\\\times 909878 - 8888 $ is **706,966,651**. Let me know if you need help with anything else!')], usage=RequestUsage(input_tokens=747, output_tokens=58), model_name='Qwen3-32B-AWQ', timestamp=datetime.datetime(2025, 10, 9, 9, 28, 49, tzinfo=TzInfo(UTC)), provider_name='openai', provider_details={'finish_reason': 'stop'}, provider_response_id='e7261daadeeb4ec68eb64f6a780b6b67', finish_reason='stop')]"
      ]
     },
     "execution_count": 42,
     "metadata": {},
     "output_type": "execute_result"
    }
   ],
   "source": [
    "agent_runner.history"
   ]
  },
  {
   "cell_type": "code",
   "execution_count": null,
   "id": "fcb9b8b7",
   "metadata": {},
   "outputs": [],
   "source": []
  }
 ],
 "metadata": {
  "kernelspec": {
   "display_name": "base",
   "language": "python",
   "name": "python3"
  },
  "language_info": {
   "codemirror_mode": {
    "name": "ipython",
    "version": 3
   },
   "file_extension": ".py",
   "mimetype": "text/x-python",
   "name": "python",
   "nbconvert_exporter": "python",
   "pygments_lexer": "ipython3",
   "version": "3.12.2"
  }
 },
 "nbformat": 4,
 "nbformat_minor": 5
}
