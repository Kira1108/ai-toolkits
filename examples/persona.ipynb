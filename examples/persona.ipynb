{
 "cells": [
  {
   "cell_type": "code",
   "execution_count": 5,
   "id": "82b150f7",
   "metadata": {},
   "outputs": [
    {
     "name": "stdout",
     "output_type": "stream",
     "text": [
      "杨彬 (A): 你好，姜红！我是杨彬，打扰你一下可以聊聊物料吗？\n",
      "姜红 (B): 杨彬你好！当然可以，什么问题说吧。\n",
      "杨彬 (A): 太谢谢了！想请教物料存储怎么避免过期问题？\n",
      "姜红 (B): 不用客气！关键是分类清楚，先进先出，定期检查。\n",
      "杨彬 (A): 明白了！分类和检查频率有建议吗？\n",
      "姜红 (B): 分类看性质，易过期更细致；检查建议每月一次。\n",
      "杨彬 (A): 好的，逻辑清晰！推进时要注意什么吗？\n",
      "姜红 (B): 注意落实责任，建立台账，减少疏漏。\n",
      "杨彬 (A): 非常实用！台账内容需要包括哪些方面呢？\n",
      "姜红 (B): 主要包括物料名称、批次、入库日期、保质期等。\n",
      "杨彬 (A): 太全面了！谢谢你的耐心讲解，我知道如何改进了！\n",
      "姜红 (B): 不客气！有问题随时问，加油改进！\n",
      "杨彬 (A): 真心感谢！你的建议太有帮助了，有机会再请教！\n",
      "姜红 (B): 别客气！有机会再聊，祝一切顺利！\n",
      "杨彬 (A): 太感谢了！祝你工作顺利，生活美满！再聊！\n",
      "姜红 (B): 谢谢祝福！你也一样，期待再聊！\n",
      "杨彬 (A): 感谢你的话语！期待再次交流，祝天天开心！再见！\n",
      "姜红 (B): 真心感谢你！祝万事如意，再见啦！\n",
      "Conversation ended.\n"
     ]
    }
   ],
   "source": [
    "from ai_toolkits.faker import PersonaProfile, ConversationSimulator\n",
    "\n",
    "simu = ConversationSimulator()\n",
    "simu.start_conversation()"
   ]
  },
  {
   "cell_type": "code",
   "execution_count": 5,
   "id": "86747e4d",
   "metadata": {},
   "outputs": [
    {
     "name": "stdout",
     "output_type": "stream",
     "text": [
      "<Persona Profile>\n",
      "Patience: Easygoing\n",
      "Clarity: Lucid\n",
      "Verbosity: Pithy\n",
      "Politeness: Informal\n",
      "Expertise: Confused\n",
      "Mbti: ISTP-known as the Virtuoso, is characterized by a love of hands-on problem-solving and a desire for independence.\n",
      "Name: 罗慧\n",
      "Address: 湖北省雪梅市丰都陈街Z座 987450\n",
      "Job: 实验室负责人/工程师\n",
      "Age: 19\n",
      "Language: 简体中文.\n",
      "</Persona Profile>\n"
     ]
    }
   ],
   "source": [
    "p = PersonaProfile()\n",
    "print(p.as_prompt())"
   ]
  }
 ],
 "metadata": {
  "kernelspec": {
   "display_name": "base",
   "language": "python",
   "name": "python3"
  },
  "language_info": {
   "codemirror_mode": {
    "name": "ipython",
    "version": 3
   },
   "file_extension": ".py",
   "mimetype": "text/x-python",
   "name": "python",
   "nbconvert_exporter": "python",
   "pygments_lexer": "ipython3",
   "version": "3.10.9"
  }
 },
 "nbformat": 4,
 "nbformat_minor": 5
}
