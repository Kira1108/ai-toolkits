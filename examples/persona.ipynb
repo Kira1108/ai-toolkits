{
 "cells": [
  {
   "cell_type": "code",
   "execution_count": 1,
   "id": "82b150f7",
   "metadata": {},
   "outputs": [
    {
     "name": "stdout",
     "output_type": "stream",
     "text": [
      "王晶 (A): 喂，客服。说吧，什么事？\n",
      "欧萍 (B): 喂，王晶，我这边想退下货，流程能说说吗？\n",
      "王晶 (A): 流程挺简单的，先拍照，填单，然后寄回去。\n",
      "欧萍 (B): 拍照是指全部还是只拍有问题的？\n",
      "王晶 (A): 照片？随便拍几张，有问题最好拍清楚。\n",
      "欧萍 (B): 好的，明白了。退货单哪里下载？\n",
      "Chat attempt 1 failed: Empty response content\n",
      "Retrying chat, attempt 2...\n",
      "王晶 (A): 自己去官网找，页面底部有，别问了。\n",
      "欧萍 (B): 收到，退货地址还是下单时的那个吗？\n",
      "王晶 (A): 不是，换新地址了。你不用问，官网查去。\n",
      "欧萍 (B): 好的，那就按官网流程操作。谢谢！\n",
      "王晶 (A): 嗯，快点搞定，别拖。\n",
      "欧萍 (B): 放心，我尽快处理，不会耽误你时间。\n",
      "王晶 (A): 行，记得快点寄回来，别忘了。\n",
      "欧萍 (B): 好的，处理完会及时通知你。\n",
      "王晶 (A): 行，随便你，别漏了流程。\n",
      "欧萍 (B): 明白，全流程一步不少，放心吧。\n",
      "王晶 (A): 嗯，就这样。挂了。\n",
      "欧萍 (B): 好，谢谢，再见！\n",
      "Conversation ended.\n"
     ]
    }
   ],
   "source": [
    "from ai_toolkits.faker import PersonaProfile, ConversationSimulator\n",
    "\n",
    "simu = ConversationSimulator()\n",
    "simu.start_conversation()"
   ]
  }
 ],
 "metadata": {
  "kernelspec": {
   "display_name": "base",
   "language": "python",
   "name": "python3"
  },
  "language_info": {
   "codemirror_mode": {
    "name": "ipython",
    "version": 3
   },
   "file_extension": ".py",
   "mimetype": "text/x-python",
   "name": "python",
   "nbconvert_exporter": "python",
   "pygments_lexer": "ipython3",
   "version": "3.10.9"
  }
 },
 "nbformat": 4,
 "nbformat_minor": 5
}
