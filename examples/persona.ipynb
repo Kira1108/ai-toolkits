{
 "cells": [
  {
   "cell_type": "code",
   "execution_count": 5,
   "id": "82b150f7",
   "metadata": {},
   "outputs": [
    {
     "name": "stdout",
     "output_type": "stream",
     "text": [
      "秦畅 (A): 喂，张玉珍吗？我是秦畅，有什么想法可以说说。\n",
      "张玉珍 (B): 哎，秦老师好！我觉得工作服颜色能不能更亮点？舒服点就更好了。\n",
      "秦畅 (A): 你想要哪种颜色呢？有喜欢的款式吗？\n",
      "张玉珍 (B): 黄色和蓝色我挺喜欢的，款式简单点，透气就行。\n",
      "秦畅 (A): 好的，黄色蓝色都能做。我选透气面料，休闲款式怎么样？\n",
      "张玉珍 (B): 挺好的！休闲款穿着舒服，透气面料也很适合。老师安排就好！\n",
      "秦畅 (A): 没问题，我方案做好发你确认，合适再生产。\n",
      "张玉珍 (B): 好嘞，先谢谢老师！等您消息，有啥要补充随时找我哈。\n",
      "秦畅 (A): 好的，随时联系你。有新进展我会打电话告诉你！\n",
      "张玉珍 (B): 好的，期待您的电话！老师辛苦啦！\n",
      "秦畅 (A): 不辛苦，谢谢你配合！有消息很快通知你。\n",
      "张玉珍 (B): 嗯嗯，谢谢老师！期待新工作服，拜拜！\n",
      "Conversation ended.\n"
     ]
    }
   ],
   "source": [
    "from ai_toolkits.faker import PersonaProfile, ConversationSimulator\n",
    "\n",
    "simu = ConversationSimulator()\n",
    "simu.start_conversation()"
   ]
  }
 ],
 "metadata": {
  "kernelspec": {
   "display_name": "base",
   "language": "python",
   "name": "python3"
  },
  "language_info": {
   "codemirror_mode": {
    "name": "ipython",
    "version": 3
   },
   "file_extension": ".py",
   "mimetype": "text/x-python",
   "name": "python",
   "nbconvert_exporter": "python",
   "pygments_lexer": "ipython3",
   "version": "3.12.2"
  }
 },
 "nbformat": 4,
 "nbformat_minor": 5
}
