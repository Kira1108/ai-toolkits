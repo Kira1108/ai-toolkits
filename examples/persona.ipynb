{
 "cells": [
  {
   "cell_type": "code",
   "execution_count": 4,
   "id": "82b150f7",
   "metadata": {},
   "outputs": [
    {
     "name": "stdout",
     "output_type": "stream",
     "text": [
      "段海燕 (A): 你好，王经理！我是段海燕，请教房产策划问题，可以吗？\n",
      "王洁 (B): 段女士，您好！很高兴接到您的电话，请讲，我尽量帮您解答！\n",
      "段海燕 (A): 谢谢！我们项目想提升市场吸引力，有什么建议？\n",
      "王洁 (B): 建议关注客户需求，特色定位，再配合精准营销，效果会更好！\n",
      "段海燕 (A): 明白了！那客户需求的调研，您这边有推荐的方式吗？\n",
      "王洁 (B): 推荐问卷调查、深度访谈，结合市场数据分析，效果会更全面。\n",
      "段海燕 (A): 好的，那数据分析这块，您建议重点关注哪些方面？\n",
      "王洁 (B): 重点关注人口结构、收入水平、购房偏好和周边竞争项目情况。\n",
      "段海燕 (A): 明白了！这几方面数据整合后，能否帮忙优化定位策略？\n",
      "王洁 (B): 当然可以！数据结合市场趋势，能精准调整定位，助力项目成功。\n",
      "段海燕 (A): 太好了！感谢您的建议，非常实用，后续可能还需请教您！\n",
      "王洁 (B): 客气啦！随时联系我，有问题尽管问，祝咱项目大卖！\n",
      "段海燕 (A): 谢谢！也祝您事业顺利，期待再次沟通！再见！\n",
      "王洁 (B): 谢谢段女士！也祝您一切顺利，期待下次交流！再见！\n",
      "Conversation ended.\n"
     ]
    }
   ],
   "source": [
    "from ai_toolkits.faker import PersonaProfile, ConversationSimulator\n",
    "\n",
    "simu = ConversationSimulator()\n",
    "simu.start_conversation()"
   ]
  },
  {
   "cell_type": "code",
   "execution_count": 5,
   "id": "86747e4d",
   "metadata": {},
   "outputs": [
    {
     "name": "stdout",
     "output_type": "stream",
     "text": [
      "<Persona Profile>\n",
      "Patience: Easygoing\n",
      "Clarity: Lucid\n",
      "Verbosity: Pithy\n",
      "Politeness: Informal\n",
      "Expertise: Confused\n",
      "Mbti: ISTP-known as the Virtuoso, is characterized by a love of hands-on problem-solving and a desire for independence.\n",
      "Name: 罗慧\n",
      "Address: 湖北省雪梅市丰都陈街Z座 987450\n",
      "Job: 实验室负责人/工程师\n",
      "Age: 19\n",
      "Language: 简体中文.\n",
      "</Persona Profile>\n"
     ]
    }
   ],
   "source": [
    "p = PersonaProfile()\n",
    "print(p.as_prompt())"
   ]
  }
 ],
 "metadata": {
  "kernelspec": {
   "display_name": "base",
   "language": "python",
   "name": "python3"
  },
  "language_info": {
   "codemirror_mode": {
    "name": "ipython",
    "version": 3
   },
   "file_extension": ".py",
   "mimetype": "text/x-python",
   "name": "python",
   "nbconvert_exporter": "python",
   "pygments_lexer": "ipython3",
   "version": "3.10.9"
  }
 },
 "nbformat": 4,
 "nbformat_minor": 5
}
