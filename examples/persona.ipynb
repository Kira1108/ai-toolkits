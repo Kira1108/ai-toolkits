{
 "cells": [
  {
   "cell_type": "code",
   "execution_count": null,
   "id": "82b150f7",
   "metadata": {},
   "outputs": [
    {
     "name": "stdout",
     "output_type": "stream",
     "text": [
      "邢旭 (A): 喂，伍女士，您好！我是邢旭，现在有空聊聊吗？\n",
      "伍秀珍 (B): 当然，邢经理，您请说，有什么事需要我配合？\n",
      "邢旭 (A): 我们新项目急需一批进口铝材，邮件已发，您查收马上处理！\n",
      "伍秀珍 (B): 收到，我这就查邮件，马上给您回复。\n",
      "Chat attempt 1 failed: Empty response content\n",
      "Retrying chat, attempt 2...\n",
      "Chat attempt 2 failed: Empty response content\n",
      "Retrying chat, attempt 3...\n",
      "邢旭 (A): 效率要快啊，明天给我准确答复，别耽误了进度！\n",
      "伍秀珍 (B): 明白，今晚加班也会给您答复，您放心！\n",
      "邢旭 (A): 好，很好！务必认真核对，别出错，有问题随时联系我！\n",
      "伍秀珍 (B): 没问题，有疑问我随时打您电话。请您放心！\n",
      "邢旭 (A): 行，那就先这样，等您回复，要快！\n",
      "伍秀珍 (B): 好的邢经理，稍后您就会收到我的回复。\n",
      "邢旭 (A): 收到！麻烦了，等您邮件，别拖延！\n",
      "伍秀珍 (B): 没问题，今天之内邮件一定发您！\n",
      "邢旭 (A): 好，期待你的回复，别忘了附上报价和交期！\n",
      "伍秀珍 (B): 明白，报价、交期都会一并发您邮箱！\n",
      "邢旭 (A): 行，辛苦了！收到邮件我会立刻确认，别有漏项！\n",
      "伍秀珍 (B): 放心，资料齐全，绝不遗漏！辛苦您配合！\n",
      "邢旭 (A): 好，那就这样，等你消息！合作愉快，有情况随时电话我！\n",
      "伍秀珍 (B): 合作愉快！有事我会第一时间联系您！\n",
      "邢旭 (A): 很棒！等你的好消息，抓紧效率，别耽误项目！\n",
      "伍秀珍 (B): 明白，抓紧处理，确保进度，马上回复您！\n",
      "邢旭 (A): 好，够利索！有最新情况随时通知我，别等！\n",
      "伍秀珍 (B): 好的，有最新进展我马上电话通知您！\n"
     ]
    }
   ],
   "source": [
    "from ai_toolkits.faker import PersonaProfile, ConversationSimulator\n",
    "\n",
    "simu = ConversationSimulator()\n",
    "simu.start_conversation()"
   ]
  }
 ],
 "metadata": {
  "kernelspec": {
   "display_name": "base",
   "language": "python",
   "name": "python3"
  },
  "language_info": {
   "codemirror_mode": {
    "name": "ipython",
    "version": 3
   },
   "file_extension": ".py",
   "mimetype": "text/x-python",
   "name": "python",
   "nbconvert_exporter": "python",
   "pygments_lexer": "ipython3",
   "version": "3.12.2"
  }
 },
 "nbformat": 4,
 "nbformat_minor": 5
}
